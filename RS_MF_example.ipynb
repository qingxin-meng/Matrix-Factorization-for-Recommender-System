{
 "cells": [
  {
   "cell_type": "code",
   "execution_count": 1,
   "metadata": {},
   "outputs": [],
   "source": [
    "import pandas as pd\n",
    "import numpy as np\n",
    "import time\n",
    "import matplotlib.pyplot as plt"
   ]
  },
  {
   "cell_type": "code",
   "execution_count": 2,
   "metadata": {},
   "outputs": [],
   "source": [
    "## read the movieLens data from csv file\n",
    "df=pd.read_csv('./source_data/ml-latest-small/ratings.csv')"
   ]
  },
  {
   "cell_type": "code",
   "execution_count": 3,
   "metadata": {},
   "outputs": [
    {
     "data": {
      "text/html": [
       "<div>\n",
       "<style scoped>\n",
       "    .dataframe tbody tr th:only-of-type {\n",
       "        vertical-align: middle;\n",
       "    }\n",
       "\n",
       "    .dataframe tbody tr th {\n",
       "        vertical-align: top;\n",
       "    }\n",
       "\n",
       "    .dataframe thead th {\n",
       "        text-align: right;\n",
       "    }\n",
       "</style>\n",
       "<table border=\"1\" class=\"dataframe\">\n",
       "  <thead>\n",
       "    <tr style=\"text-align: right;\">\n",
       "      <th></th>\n",
       "      <th>userId</th>\n",
       "      <th>movieId</th>\n",
       "      <th>rating</th>\n",
       "      <th>timestamp</th>\n",
       "    </tr>\n",
       "  </thead>\n",
       "  <tbody>\n",
       "    <tr>\n",
       "      <th>0</th>\n",
       "      <td>1</td>\n",
       "      <td>1</td>\n",
       "      <td>4.0</td>\n",
       "      <td>964982703</td>\n",
       "    </tr>\n",
       "    <tr>\n",
       "      <th>1</th>\n",
       "      <td>1</td>\n",
       "      <td>3</td>\n",
       "      <td>4.0</td>\n",
       "      <td>964981247</td>\n",
       "    </tr>\n",
       "    <tr>\n",
       "      <th>2</th>\n",
       "      <td>1</td>\n",
       "      <td>6</td>\n",
       "      <td>4.0</td>\n",
       "      <td>964982224</td>\n",
       "    </tr>\n",
       "    <tr>\n",
       "      <th>3</th>\n",
       "      <td>1</td>\n",
       "      <td>47</td>\n",
       "      <td>5.0</td>\n",
       "      <td>964983815</td>\n",
       "    </tr>\n",
       "    <tr>\n",
       "      <th>4</th>\n",
       "      <td>1</td>\n",
       "      <td>50</td>\n",
       "      <td>5.0</td>\n",
       "      <td>964982931</td>\n",
       "    </tr>\n",
       "  </tbody>\n",
       "</table>\n",
       "</div>"
      ],
      "text/plain": [
       "   userId  movieId  rating  timestamp\n",
       "0       1        1     4.0  964982703\n",
       "1       1        3     4.0  964981247\n",
       "2       1        6     4.0  964982224\n",
       "3       1       47     5.0  964983815\n",
       "4       1       50     5.0  964982931"
      ]
     },
     "execution_count": 3,
     "metadata": {},
     "output_type": "execute_result"
    }
   ],
   "source": [
    "## have a glance of the data\n",
    "df.head()"
   ]
  },
  {
   "cell_type": "code",
   "execution_count": 4,
   "metadata": {},
   "outputs": [
    {
     "data": {
      "text/plain": [
       "array([4. , 5. , 3. , 2. , 1. , 4.5, 3.5, 2.5, 0.5, 1.5])"
      ]
     },
     "execution_count": 4,
     "metadata": {},
     "output_type": "execute_result"
    }
   ],
   "source": [
    "# there are 10 different ratings from 0.5 to 5\n",
    "df.rating.unique()"
   ]
  },
  {
   "cell_type": "code",
   "execution_count": 5,
   "metadata": {},
   "outputs": [
    {
     "data": {
      "image/png": "[encoded data removed]",
      "text/plain": [
       "<Figure size 432x288 with 1 Axes>"
      ]
     },
     "metadata": {},
     "output_type": "display_data"
    }
   ],
   "source": [
    "## have a look at the distribution of the data, skewed to the right\n",
    "fig=plt.figure()\n",
    "plt.hist(df.rating,50)\n",
    "plt.show()"
   ]
  },
  {
   "cell_type": "code",
   "execution_count": 7,
   "metadata": {},
   "outputs": [
    {
     "name": "stdout",
     "output_type": "stream",
     "text": [
      "there are total 610 users, 9724 movies and 100836 ratings\n"
     ]
    }
   ],
   "source": [
    "## dataset overview\n",
    "n_users=df.userId.nunique()\n",
    "n_items=df.movieId.nunique()\n",
    "n_ratings=len(df)\n",
    "print('there are total %d users, %d movies and %d ratings'%(n_users,n_items,n_ratings))"
   ]
  },
  {
   "cell_type": "code",
   "execution_count": 8,
   "metadata": {},
   "outputs": [
    {
     "data": {
      "image/png": "[encoded data removed]",
      "text/plain": [
       "<Figure size 432x288 with 2 Axes>"
      ]
     },
     "metadata": {},
     "output_type": "display_data"
    }
   ],
   "source": [
    "## have a look at the heatmap of the dataset, the data is very sparse\n",
    "pivot=pd.pivot_table(df,index=['userId'],columns=['movieId'], values=['rating'])\n",
    "fig = plt.figure()\n",
    "plt.imshow(pivot,cmap=plt.cm.hot_r,aspect='auto')\n",
    "plt.colorbar()\n",
    "plt.xlabel('movie ID')\n",
    "plt.ylabel('user ID')\n",
    "plt.title('The heatmap of ratings')\n",
    "plt.show()"
   ]
  },
  {
   "cell_type": "code",
   "execution_count": 9,
   "metadata": {},
   "outputs": [],
   "source": [
    "## the code of Matrix Factorization (SVD stands for sigular vector decomposition) for recommender system\n",
    "class SVD():\n",
    "    def __init__(self, n_factors=10, biased=True, init_mean=0,\n",
    "                 init_std_dev=.1,lr=.005,reg=.005):\n",
    "        ## define some hyperparameters\n",
    "        self.n_factors = n_factors\n",
    "        self.biased = biased\n",
    "        self.init_mean = init_mean\n",
    "        self.init_std_dev = init_std_dev\n",
    "        self.lr=lr\n",
    "        self.reg=reg\n",
    "       \n",
    "        \n",
    "    def process_data(self,data, train_proportion=0.8):\n",
    "        \n",
    "        ## we suppose the format of data is pandas dataframe, \n",
    "        ## we first shuffle the data, then split it into the train and test set.\n",
    "        ## we give the new user ID and movie ID to the training set, so the new ID \n",
    "        ## starts from 0, and is cumulated by 1. There is no jump along the IDs.\n",
    "        \n",
    "        n_ratints=len(data)\n",
    "        df = data.sample(frac=1)\n",
    "        split_pos=int(np.ceil(n_ratints*train_proportion))\n",
    "        trainset=df.iloc[:split_pos]\n",
    "        testset=df.iloc[split_pos:]\n",
    "        \n",
    "        \n",
    "        self.global_mean=trainset.rating.mean()\n",
    "        self.min_rating = trainset.rating.min()-self.global_mean\n",
    "        self.max_rating = trainset.rating.max()-self.global_mean\n",
    "        self.n_train_ratings=len(trainset)\n",
    "        self.n_test_ratings=len(testset)\n",
    "        self.n_users=trainset.userId.nunique()\n",
    "        self.n_items=trainset.movieId.nunique()\n",
    "        \n",
    "        ## after the shuffle and split process, the userId and movieId for the trainset maybe \n",
    "        \n",
    "        self.old_userId2new={old_userId:i for i, old_userId in enumerate(trainset.userId.unique())}\n",
    "        self.old_itemId2new={old_itemId:i for i, old_itemId in enumerate(trainset.movieId.unique())}\n",
    "        \n",
    "        trainset_renew_id=[]\n",
    "        for _, u,i,r,_ in trainset.itertuples():\n",
    "            new_userId=self.old_userId2new[u]\n",
    "            new_itemId=self.old_itemId2new[i]\n",
    "            trainset_renew_id.append((new_userId,new_itemId,r-self.global_mean))\n",
    "            \n",
    "        testset_renew_id=[]\n",
    "        for _, u,i,r,_ in testset.itertuples():\n",
    "            try:\n",
    "                new_userId=self.old_userId2new[u]   \n",
    "            except:\n",
    "                new_userId='unknown'\n",
    "            \n",
    "            try:\n",
    "                new_itemId=self.old_itemId2new[i]\n",
    "            except:\n",
    "                new_itemId='unknown'\n",
    "                \n",
    "            testset_renew_id.append((new_userId,new_itemId,r-self.global_mean))\n",
    "            \n",
    "        self.init_para()\n",
    "            \n",
    "        return trainset_renew_id, testset_renew_id\n",
    "        \n",
    "        \n",
    "    def init_para(self):\n",
    "         # Randomly initialize user and item factors, bu and bi are bias associated with users and items\n",
    "        self.pu = np.random.normal(self.init_mean, self.init_std_dev,\n",
    "                              (self.n_users, self.n_factors))\n",
    "        self.qi = np.random.normal(self.init_mean, self.init_std_dev,\n",
    "                              (self.n_items, self.n_factors))\n",
    "        \n",
    "        self.bu = np.zeros(self.n_users, np.double)\n",
    "        self.bi = np.zeros(self.n_items, np.double)\n",
    "            \n",
    "\n",
    "    def train_sgd(self, trainset):\n",
    "        ## training the data with schocastic gradient descent method\n",
    "        \n",
    "        self.train_rmse=0.0\n",
    "        for  u, i, r in trainset:\n",
    "\n",
    "            # compute current estimation and error\n",
    "            dot = 0  # <q_i, p_u>\n",
    "            for f in range(self.n_factors):\n",
    "                dot += self.qi[i, f] * self.pu[u, f]\n",
    "            est = self.bu[u] + self.bi[i] + dot\n",
    "            err = r - est\n",
    "            self.train_rmse += err**2\n",
    "            \n",
    "            # update biases\n",
    "            if self.biased:\n",
    "                self.bu[u] += self.lr * (err - self.reg * self.bu[u])\n",
    "                self.bi[i] += self.lr * (err - self.reg * self.bi[i])\n",
    "\n",
    "            # update the user and movie latent factors\n",
    "            for f in range(self.n_factors):\n",
    "                self.pu[u, f] += self.lr * (err * self.qi[i,f]-self.reg*self.pu[u,f])\n",
    "                self.qi[i, f] += self.lr * (err * self.pu[u,f]-self.reg*self.qi[i,f])\n",
    "        \n",
    "        self.train_rmse=np.sqrt(self.train_rmse/self.n_train_ratings)\n",
    "        \n",
    "        return self.train_rmse\n",
    "        \n",
    "\n",
    "\n",
    "    def estimate(self, testset):\n",
    "        \n",
    "        ## estimate the root mean sqare error for testing dataset\n",
    "        self.test_rmse=0.0\n",
    "        \n",
    "        for  u, i, r in testset:\n",
    "            if self.biased:\n",
    "                est=0.0 \n",
    "                if u!='unknown':\n",
    "                    est += self.bu[u]\n",
    "\n",
    "                if i!='unknown':\n",
    "                    est += self.bi[i]\n",
    "\n",
    "                if (u!='unknown') and (i!='unknown'):\n",
    "                    est += np.dot(self.qi[i], self.pu[u])\n",
    "\n",
    "            else:\n",
    "                if (u!='unknown') and (i!='unknown'):\n",
    "                    est = np.dot(self.qi[i], self.pu[u])\n",
    "\n",
    "                else:\n",
    "                    est=0.0\n",
    "                    continue\n",
    "                    \n",
    "            est=min(est,self.max_rating)\n",
    "            est=max(est,self.min_rating)\n",
    "            self.test_rmse += (r-est)**2\n",
    "        self.test_rmse=np.sqrt(self.test_rmse/self.n_test_ratings)\n",
    "        return self.test_rmse"
   ]
  },
  {
   "cell_type": "code",
   "execution_count": 10,
   "metadata": {},
   "outputs": [
    {
     "name": "stdout",
     "output_type": "stream",
     "text": [
      "training the epoch 0 needs time 0 minites 2 sec,the trainset rmse 0.9632 | testset rmse 0.9406\n",
      "training the epoch 1 needs time 0 minites 2 sec,the trainset rmse 0.9117 | testset rmse 0.9200\n",
      "training the epoch 2 needs time 0 minites 2 sec,the trainset rmse 0.8921 | testset rmse 0.9096\n",
      "training the epoch 3 needs time 0 minites 2 sec,the trainset rmse 0.8798 | testset rmse 0.9029\n",
      "training the epoch 4 needs time 0 minites 2 sec,the trainset rmse 0.8706 | testset rmse 0.8981\n",
      "training the epoch 5 needs time 0 minites 2 sec,the trainset rmse 0.8633 | testset rmse 0.8944\n",
      "training the epoch 6 needs time 0 minites 2 sec,the trainset rmse 0.8570 | testset rmse 0.8915\n",
      "training the epoch 7 needs time 0 minites 2 sec,the trainset rmse 0.8514 | testset rmse 0.8892\n",
      "training the epoch 8 needs time 0 minites 2 sec,the trainset rmse 0.8464 | testset rmse 0.8872\n",
      "training the epoch 9 needs time 0 minites 2 sec,the trainset rmse 0.8416 | testset rmse 0.8856\n",
      "training the epoch 10 needs time 0 minites 2 sec,the trainset rmse 0.8370 | testset rmse 0.8842\n",
      "training the epoch 11 needs time 0 minites 2 sec,the trainset rmse 0.8324 | testset rmse 0.8830\n",
      "training the epoch 12 needs time 0 minites 2 sec,the trainset rmse 0.8278 | testset rmse 0.8820\n",
      "training the epoch 13 needs time 0 minites 2 sec,the trainset rmse 0.8231 | testset rmse 0.8810\n",
      "training the epoch 14 needs time 0 minites 2 sec,the trainset rmse 0.8182 | testset rmse 0.8802\n",
      "training the epoch 15 needs time 0 minites 2 sec,the trainset rmse 0.8129 | testset rmse 0.8795\n",
      "training the epoch 16 needs time 0 minites 2 sec,the trainset rmse 0.8074 | testset rmse 0.8789\n",
      "training the epoch 17 needs time 0 minites 2 sec,the trainset rmse 0.8014 | testset rmse 0.8784\n",
      "training the epoch 18 needs time 0 minites 2 sec,the trainset rmse 0.7951 | testset rmse 0.8780\n",
      "training the epoch 19 needs time 0 minites 2 sec,the trainset rmse 0.7884 | testset rmse 0.8777\n",
      "training the epoch 20 needs time 0 minites 2 sec,the trainset rmse 0.7813 | testset rmse 0.8776\n",
      "training the epoch 21 needs time 0 minites 2 sec,the trainset rmse 0.7739 | testset rmse 0.8776\n",
      "training the epoch 22 needs time 0 minites 2 sec,the trainset rmse 0.7662 | testset rmse 0.8778\n",
      "training the epoch 23 needs time 0 minites 2 sec,the trainset rmse 0.7583 | testset rmse 0.8782\n",
      "training the epoch 24 needs time 0 minites 2 sec,the trainset rmse 0.7502 | testset rmse 0.8787\n",
      "training the epoch 25 needs time 0 minites 2 sec,the trainset rmse 0.7421 | testset rmse 0.8795\n",
      "training the epoch 26 needs time 0 minites 2 sec,the trainset rmse 0.7341 | testset rmse 0.8804\n",
      "training the epoch 27 needs time 0 minites 2 sec,the trainset rmse 0.7261 | testset rmse 0.8815\n",
      "training the epoch 28 needs time 0 minites 2 sec,the trainset rmse 0.7182 | testset rmse 0.8827\n",
      "training the epoch 29 needs time 0 minites 2 sec,the trainset rmse 0.7106 | testset rmse 0.8840\n",
      "training the epoch 30 needs time 0 minites 2 sec,the trainset rmse 0.7031 | testset rmse 0.8854\n",
      "training the epoch 31 needs time 0 minites 2 sec,the trainset rmse 0.6959 | testset rmse 0.8869\n",
      "training the epoch 32 needs time 0 minites 2 sec,the trainset rmse 0.6889 | testset rmse 0.8884\n",
      "training the epoch 33 needs time 0 minites 2 sec,the trainset rmse 0.6822 | testset rmse 0.8900\n",
      "training the epoch 34 needs time 0 minites 2 sec,the trainset rmse 0.6758 | testset rmse 0.8916\n",
      "training the epoch 35 needs time 0 minites 3 sec,the trainset rmse 0.6696 | testset rmse 0.8932\n",
      "training the epoch 36 needs time 0 minites 3 sec,the trainset rmse 0.6637 | testset rmse 0.8948\n",
      "training the epoch 37 needs time 0 minites 3 sec,the trainset rmse 0.6580 | testset rmse 0.8964\n",
      "training the epoch 38 needs time 0 minites 2 sec,the trainset rmse 0.6526 | testset rmse 0.8980\n",
      "training the epoch 39 needs time 0 minites 2 sec,the trainset rmse 0.6474 | testset rmse 0.8995\n",
      "training the epoch 40 needs time 0 minites 2 sec,the trainset rmse 0.6425 | testset rmse 0.9010\n",
      "training the epoch 41 needs time 0 minites 2 sec,the trainset rmse 0.6377 | testset rmse 0.9025\n",
      "training the epoch 42 needs time 0 minites 2 sec,the trainset rmse 0.6332 | testset rmse 0.9040\n",
      "training the epoch 43 needs time 0 minites 2 sec,the trainset rmse 0.6288 | testset rmse 0.9054\n",
      "training the epoch 44 needs time 0 minites 2 sec,the trainset rmse 0.6246 | testset rmse 0.9068\n",
      "training the epoch 45 needs time 0 minites 2 sec,the trainset rmse 0.6206 | testset rmse 0.9082\n",
      "training the epoch 46 needs time 0 minites 2 sec,the trainset rmse 0.6168 | testset rmse 0.9095\n",
      "training the epoch 47 needs time 0 minites 2 sec,the trainset rmse 0.6131 | testset rmse 0.9107\n",
      "training the epoch 48 needs time 0 minites 2 sec,the trainset rmse 0.6096 | testset rmse 0.9120\n",
      "training the epoch 49 needs time 0 minites 2 sec,the trainset rmse 0.6062 | testset rmse 0.9132\n"
     ]
    }
   ],
   "source": [
    "## initiate the model\n",
    "mf_model=SVD()\n",
    "\n",
    "## process the dataset\n",
    "trainset, testset=mf_model.process_data(df)\n",
    "\n",
    "## train and evaluate the model for each epoch\n",
    "max_epochs=50\n",
    "for epoch in range(max_epochs):\n",
    "    start_time=time.time()\n",
    "    trainset_rmse=mf_model.train_sgd(trainset)\n",
    "    testset_rmse=mf_model.estimate(testset)\n",
    "    end_time=time.time()\n",
    "    minutes=(end_time-start_time)//60\n",
    "    sec=(end_time-start_time)%60\n",
    "    print('training the epoch %d needs time %d minites %d sec,the trainset rmse %.4f | testset rmse %.4f'%(epoch, minutes,sec, trainset_rmse, testset_rmse))\n",
    "    "
   ]
  },
  {
   "cell_type": "code",
   "execution_count": null,
   "metadata": {},
   "outputs": [],
   "source": []
  }
 ],
 "metadata": {
  "kernelspec": {
   "display_name": "Python 3",
   "language": "python",
   "name": "python3"
  },
  "language_info": {
   "codemirror_mode": {
    "name": "ipython",
    "version": 3
   },
   "file_extension": ".py",
   "mimetype": "text/x-python",
   "name": "python",
   "nbconvert_exporter": "python",
   "pygments_lexer": "ipython3",
   "version": "3.6.6"
  }
 },
 "nbformat": 4,
 "nbformat_minor": 2
}
